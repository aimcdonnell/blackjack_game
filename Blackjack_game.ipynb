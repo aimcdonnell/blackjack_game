{
 "cells": [
  {
   "cell_type": "code",
   "execution_count": 43,
   "id": "93afc7f0-d09d-4f29-8295-8471886c56a5",
   "metadata": {},
   "outputs": [
    {
     "data": {
      "text/plain": [
       "'\\n1) Player has a bankroll and places a bet\\n2) Player starts with 2 cards face up\\n3) Dealer starts with 1 card face up and 1 card face down\\n4) Player goes first in the gameplay\\n5) Player goal: get closer to a total value of 21 (sum of cards the player has) than the dealer does\\n6) Player action 1: Hit - receive another card\\n7) Player action 2: Stay - stop receiving cards\\n8) Game end option 1: The player keeps hitting and goes over 21 - bust and lost the bet\\n9) Game end option 2: The computer dealer hits and sum is higher than player sum and still under 21\\n10) Game end option 3: The computer dealer hits until they either beat the player or the dealer busts\\n11) Face cards - J, Q, K count as a value of 10\\n12) Aces count as either 1 or 11\\n'"
      ]
     },
     "execution_count": 43,
     "metadata": {},
     "output_type": "execute_result"
    }
   ],
   "source": [
    "# Blackjack game\n",
    "\n",
    "# Only a computer dealer and a human player \n",
    "\n",
    "# Create a normal deck of cards\n",
    "\n",
    "# Rules:\n",
    "'''\n",
    "1) Player has a bankroll and places a bet\n",
    "2) Player starts with 2 cards face up\n",
    "3) Dealer starts with 1 card face up and 1 card face down\n",
    "4) Player goes first in the gameplay\n",
    "5) Player goal: get closer to a total value of 21 (sum of cards the player has) than the dealer does\n",
    "6) Player action 1: Hit - receive another card\n",
    "7) Player action 2: Stay - stop receiving cards\n",
    "8) Game end option 1: The player keeps hitting and goes over 21 - bust and lost the bet\n",
    "9) Game end option 2: The computer dealer hits and sum is higher than player sum and still under 21\n",
    "10) Game end option 3: The computer dealer hits until they either beat the player or the dealer busts\n",
    "11) Face cards - J, Q, K count as a value of 10\n",
    "12) Aces count as either 1 or 11\n",
    "'''"
   ]
  },
  {
   "cell_type": "code",
   "execution_count": 44,
   "id": "40683c0c-a5f6-4461-a823-a5984a2f17b2",
   "metadata": {},
   "outputs": [],
   "source": [
    "# Suits, ranks and values\n",
    "import random\n",
    "suits = ('Hearts', 'Diamonds', 'Spades', 'Clubs')\n",
    "ranks = ('Two', 'Three', 'Four', 'Five', 'Six', 'Seven', 'Eight', 'Nine', 'Ten', 'Jack', 'Queen', 'King', 'Ace')\n",
    "values = {'Two':2, 'Three':3, 'Four':4, 'Five':5, 'Six':6, 'Seven':7, 'Eight':8, \n",
    "            'Nine':9, 'Ten':10, 'Jack':10, 'Queen':10, 'King':10, 'Ace':11}"
   ]
  },
  {
   "cell_type": "code",
   "execution_count": 23,
   "id": "d9f2018f-cb63-4b3a-bd4a-73874d16595c",
   "metadata": {},
   "outputs": [],
   "source": [
    "# create a card class - individual card definition\n",
    "class Card:\n",
    "    def __init__(self, rank, suit, value):\n",
    "        self.suit = suit\n",
    "        self.rank = rank\n",
    "        self.value = values[rank]\n",
    "\n",
    "    def __str__(self):\n",
    "        return self.rank + \" of \" + self.suit + \", with a value of \" + str(self.value)"
   ]
  },
  {
   "cell_type": "code",
   "execution_count": 24,
   "id": "13fed9a0-a36a-4d4d-b874-181704fd6dbe",
   "metadata": {},
   "outputs": [],
   "source": [
    "# 1. Create a deck class of 52 cards\n",
    "class Deck:\n",
    "    def __init__(self):\n",
    "        self.all_cards = []\n",
    "        # loops through like Hearts Two, Hearts Three, Hearts Four, etc. until it reaches the end of ranks and then loops through Diamonds Two, Diamonds Three, etc.\n",
    "        for suit in suits:\n",
    "            for rank in ranks:\n",
    "                for value in values:\n",
    "                    created_card = Card(rank, suit, value)\n",
    "                    # .append() adds to the end of a list/ to the top of a pile\n",
    "                    self.all_cards.append(created_card)\n",
    "# 2. Shuffle the deck\n",
    "    # random.shuffle() is a function from Python's random module\n",
    "    def shuffle(self):\n",
    "        # shuffle all the cards in the all_cards list\n",
    "        random.shuffle(self.all_cards)\n",
    "        "
   ]
  },
  {
   "cell_type": "code",
   "execution_count": 45,
   "id": "344c6857-9f7f-4867-bab6-97dc7d609da7",
   "metadata": {},
   "outputs": [],
   "source": [
    "class Dealer():\n",
    "    def __init__(self):\n",
    "        self.dealer_cards = []\n",
    "\n",
    "    def deal_one(self, deck):\n",
    "        deal_1 = deck.all_cards.pop()\n",
    "        self.dealer_cards.append(deal_1)\n",
    "        return deal_1\n",
    "        \n",
    "    def receive_cards(self, deck):\n",
    "        dealer_card_1 = deck.all_cards.pop()\n",
    "        dealer_card_2 = deck.all_cards.pop()\n",
    "        self.dealer_cards.extend([dealer_card_1, dealer_card_2])\n",
    "        return [dealer_card_1, dealer_card_2]\n",
    "\n",
    "    def hit(self, deck):\n",
    "        print('Dealer chose to hit.')\n",
    "        player_hit_card = deck.all_cards.pop()\n",
    "        self.dealer_cards.append(player_hit_card)\n",
    "\n",
    "    def stay(self):\n",
    "        print('Dealer chose to stay.')\n",
    "\n",
    "    def display_cards(self):\n",
    "        for idx, card in enumerate(self.dealer_cards):\n",
    "            if idx == 0:\n",
    "                print(f\"Dealer card {idx + 1} is: {card}\")\n",
    "\n",
    "    def calculate_dealer_hand_total(self):\n",
    "        dealer_total = sum(card.value for card in self.dealer_cards)\n",
    "        # Count how many aces are in hand\n",
    "        aces = sum(1 for card in self.dealer_cards if card.rank == \"Ace\")\n",
    "    \n",
    "        # While total > 21 and we have aces counted as 11\n",
    "        while dealer_total > 21 and aces:\n",
    "            dealer_total -= 10   # Convert one Ace from 11 → 1\n",
    "            aces -= 1\n",
    "        print(f\"Dealer total: {dealer_total}\")\n",
    "        return dealer_total\n",
    "\n",
    "    def dealer_turn(self, deck, player_total):\n",
    "        while True:\n",
    "            dealer_total = self.calculate_dealer_hand_total()\n",
    "    \n",
    "            if dealer_total > 21:\n",
    "                print(f\"Dealer busts with {dealer_total}!\")\n",
    "                break\n",
    "            elif dealer_total > player_total:\n",
    "                print(f\"Dealer wins with {dealer_total}!\")\n",
    "                break\n",
    "            else:\n",
    "                new_card = self.deal_one(deck)\n",
    "                self.dealer_cards.append(new_card)\n",
    "                print(f\"Dealer hits and draws: {new_card}\")"
   ]
  },
  {
   "cell_type": "code",
   "execution_count": 46,
   "id": "3362611f-2655-46a3-ac06-225e847e0c22",
   "metadata": {},
   "outputs": [],
   "source": [
    "class Player(Dealer):\n",
    "    def __init__(self, name):\n",
    "        self.name = name.capitalize()\n",
    "        self.chips = 100\n",
    "        self.bet = 0\n",
    "        self.player_cards = []\n",
    "        super().__init__()\n",
    "\n",
    "    # 4. Make sure the player does not exceed their available chips\n",
    "    def bet_chips(self):\n",
    "        print(f\"Hey, {self.name}!\")\n",
    "        while True:\n",
    "            try:\n",
    "                # 3. Ask the player for their bet\n",
    "                choice = int(input(f\"Choose your betting amount. Max betting amount {self.chips}: \"))\n",
    "                if choice > self.chips:\n",
    "                    print(f\"Sorry, you can only bet {self.chips} or below. Please choose a betting amount: \")\n",
    "                else:\n",
    "                    self.bet = choice\n",
    "                    print(f\"Great, your bet choice is {self.bet}.\")\n",
    "                    break\n",
    "            except ValueError:\n",
    "                print(\"Please enter a valid number.\")\n",
    "                \n",
    "    def receive_cards(self, deck):\n",
    "        player_card_1 = deck.all_cards.pop()\n",
    "        player_card_2 = deck.all_cards.pop()\n",
    "        self.player_cards.extend([player_card_1, player_card_2])\n",
    "        return [player_card_1, player_card_2]\n",
    "\n",
    "    def hit(self, deck):\n",
    "        print('You chose to hit.')\n",
    "        player_hit_card = deck.all_cards.pop()\n",
    "        self.player_cards.append(player_hit_card)\n",
    "\n",
    "    def stay(self):\n",
    "        print('You chose to stay.')\n",
    "\n",
    "    def display_cards(self):\n",
    "        for idx, card in enumerate(self.player_cards):\n",
    "            print(f\"Player card {idx + 1} is: {card}\")\n",
    "\n",
    "    def calculate_player_hand_total(self):\n",
    "        player_total = sum(card.value for card in self.player_cards)\n",
    "        # Count how many aces are in hand\n",
    "        aces = sum(1 for card in self.player_cards if card.rank == \"Ace\")\n",
    "    \n",
    "        # While total > 21 and we have aces counted as 11\n",
    "        while player_total > 21 and aces:\n",
    "            player_total -= 10   # Convert one Ace from 11 → 1\n",
    "            aces -= 1\n",
    "        print(f\"Player total: {player_total}\")\n",
    "        return player_total\n",
    "\n",
    "    def player_turn(self, deck):\n",
    "        while True:\n",
    "            choice = input(\"Do you want to hit or stay? (h/s): \").lower()\n",
    "            \n",
    "            if choice == \"h\":\n",
    "                self.hit(deck)\n",
    "                player_total = self.calculate_player_hand_total()\n",
    "                \n",
    "                if player_total > 21:\n",
    "                    print(\"You busted!\")\n",
    "                    return True   # player busted\n",
    "            elif choice == \"s\":\n",
    "                print(\"You chose to stay.\")\n",
    "                return False  # turn ends, player still in game\n",
    "            else:\n",
    "                print(\"Invalid choice, try again.\")"
   ]
  },
  {
   "cell_type": "code",
   "execution_count": 48,
   "id": "4b6bb829-73ab-40d8-a800-9a81cdcc8e4f",
   "metadata": {},
   "outputs": [
    {
     "name": "stdin",
     "output_type": "stream",
     "text": [
      "Welcome! What is your name? Ann\n"
     ]
    },
    {
     "name": "stdout",
     "output_type": "stream",
     "text": [
      "Hey, Ann!\n"
     ]
    },
    {
     "name": "stdin",
     "output_type": "stream",
     "text": [
      "Choose your betting amount. Max betting amount 100:  100\n"
     ]
    },
    {
     "name": "stdout",
     "output_type": "stream",
     "text": [
      "Great, your bet choice is 100.\n",
      "Dealer card 1 is: Two of Diamonds, with a value of 2\n",
      "Player card 1 is: Nine of Spades, with a value of 9\n",
      "Player card 2 is: Jack of Hearts, with a value of 10\n"
     ]
    },
    {
     "name": "stdin",
     "output_type": "stream",
     "text": [
      "Do you want to hit or stay? (h/s):  h\n"
     ]
    },
    {
     "name": "stdout",
     "output_type": "stream",
     "text": [
      "You chose to hit.\n",
      "Player total: 20\n"
     ]
    },
    {
     "name": "stdin",
     "output_type": "stream",
     "text": [
      "Do you want to hit or stay? (h/s):  s\n"
     ]
    },
    {
     "name": "stdout",
     "output_type": "stream",
     "text": [
      "You chose to stay.\n",
      "Player total: 20\n",
      "Dealer total: 12\n",
      "Dealer hits and draws: Six of Diamonds, with a value of 6\n",
      "Dealer total: 24\n",
      "Dealer busts with 24!\n"
     ]
    }
   ],
   "source": [
    "##### Gameplay\n",
    "player_name = input(\"Welcome! What is your name?\")\n",
    "player = Player(player_name)\n",
    "dealer = Dealer()\n",
    "player.bet_chips()\n",
    "\n",
    "game_deck = Deck()\n",
    "game_deck.shuffle()\n",
    "\n",
    "# 5. Deal two cards to the Dealer and two cards to the Player\n",
    "dealer_cards = dealer.receive_cards(game_deck)\n",
    "player_cards = player.receive_cards(game_deck)\n",
    "\n",
    "# Dealer starts with 1 card up, 1 card down\n",
    "dealer.display_cards()\n",
    "# Player starts with both cards up\n",
    "player.display_cards()\n",
    "\n",
    "# The player goes first\n",
    "# Player goal: get closer to a total value of 21 (sum of cards the player has) than the dealer does\n",
    "\n",
    "player_busted = player.player_turn(game_deck)\n",
    "\n",
    "if not player_busted:\n",
    "    dealer.dealer_turn(game_deck, player.calculate_player_hand_total())"
   ]
  }
 ],
 "metadata": {
  "kernelspec": {
   "display_name": "Python 3 (ipykernel)",
   "language": "python",
   "name": "python3"
  },
  "language_info": {
   "codemirror_mode": {
    "name": "ipython",
    "version": 3
   },
   "file_extension": ".py",
   "mimetype": "text/x-python",
   "name": "python",
   "nbconvert_exporter": "python",
   "pygments_lexer": "ipython3",
   "version": "3.12.1"
  }
 },
 "nbformat": 4,
 "nbformat_minor": 5
}
